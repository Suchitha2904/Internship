{
 "cells": [
  {
   "cell_type": "code",
   "execution_count": null,
   "id": "b68e3e1d-fb3e-4ee3-bcba-88427d8b3a02",
   "metadata": {},
   "outputs": [],
   "source": [
    "Question 1- Write a Python program to replace all occurrences of a space, comma, or dot with a colon.\n",
    "Sample Text- 'Python Exercises, PHP exercises.'\n",
    "Expected Output: Python:Exercises::PHP:exercises:\n"
   ]
  },
  {
   "cell_type": "code",
   "execution_count": 8,
   "id": "ad7b6372-295d-4e80-a1fb-7d88a179a3bf",
   "metadata": {},
   "outputs": [
    {
     "name": "stdout",
     "output_type": "stream",
     "text": [
      "Python:Exercises::PHP:exercises:\n"
     ]
    }
   ],
   "source": [
    "import re\n",
    "import regex as re\n",
    "sub_= 'Python Exercises, PHP exercises.'\n",
    "x=re.sub(\"[ ,.]\",\":\", sub_)\n",
    "print(x)"
   ]
  },
  {
   "cell_type": "code",
   "execution_count": null,
   "id": "2f4c9c36-026d-420d-82ab-ae2de732f6ca",
   "metadata": {},
   "outputs": [],
   "source": [
    "Question 2-  Create a dataframe using the dictionary below and remove everything (commas (,), !, XXXX, ;, etc.) from the columns except words.\n",
    "Dictionary- {'SUMMARY' : ['hello, world!', 'XXXXX test', '123four, five:; six...']}\n",
    "Expected output-\n",
    "0      hello world\n",
    "1             test\n",
    "2    four five six\n"
   ]
  },
  {
   "cell_type": "code",
   "execution_count": 12,
   "id": "e9e94914-ccb5-4a48-bbcb-b38a0a185c39",
   "metadata": {},
   "outputs": [
    {
     "name": "stdout",
     "output_type": "stream",
     "text": [
      "         SUMMARY\n",
      "0    hello world\n",
      "1           test\n",
      "2  four five six\n"
     ]
    }
   ],
   "source": [
    "import pandas as pd\n",
    "data = {'SUMMARY': ['hello, world!', 'XXXXX test', '123four, five:; six...']}\n",
    "df = pd.DataFrame(data)\n",
    "df['SUMMARY'] = df['SUMMARY'].apply(lambda x: re.sub(r'[^\\w\\s]|[XXXX]|[\\d+]', '', x))\n",
    "print(df)"
   ]
  },
  {
   "cell_type": "code",
   "execution_count": null,
   "id": "1025d6b6-3ace-4920-81f7-b4d767872dfb",
   "metadata": {},
   "outputs": [],
   "source": [
    "Question 3- Create a function in python to find all words that are at least 4 characters long in a string. The use of the re.compile() method is mandatory."
   ]
  },
  {
   "cell_type": "code",
   "execution_count": 16,
   "id": "a31f435d-e387-407f-af3a-58af38faf609",
   "metadata": {},
   "outputs": [
    {
     "name": "stdout",
     "output_type": "stream",
     "text": [
      "['girl', 'with', 'brown', 'eyes', 'went', 'park', 'play', 'while']\n"
     ]
    }
   ],
   "source": [
    "import re\n",
    "target_string = 'The girl with the brown eyes went to the park to play a while ago.'\n",
    "pattern = re.compile(r'\\b\\w{4,}\\b')\n",
    "output = pattern.findall(target_string)\n",
    "print(output)"
   ]
  },
  {
   "cell_type": "code",
   "execution_count": null,
   "id": "57164efa-c11a-488d-9c22-fcc92ac4ccfa",
   "metadata": {},
   "outputs": [],
   "source": [
    "Question 4- Create a function in python to find all three, four, and five character words in a string. The use of the re.compile() method is mandatory."
   ]
  },
  {
   "cell_type": "code",
   "execution_count": 21,
   "id": "680626f2-88f4-4c8d-9f08-7968dc0e4c6e",
   "metadata": {},
   "outputs": [
    {
     "name": "stdout",
     "output_type": "stream",
     "text": [
      "['was', 'able', 'the', 'well', 'today', 'the', 'the']\n"
     ]
    }
   ],
   "source": [
    "target_string='I was able to answer the questions well today, as I studied the subject during the weekend.'\n",
    "pattern = re.compile(r'\\b\\w{3,5}\\b') \n",
    "output = pattern.findall(target_string)\n",
    "print(output)"
   ]
  },
  {
   "cell_type": "code",
   "execution_count": null,
   "id": "5b96329f-7ff6-432d-b46f-6fd18ec014f6",
   "metadata": {},
   "outputs": [],
   "source": [
    "Question 5- Create a function in Python to remove the parenthesis in a list of strings. The use of the re.compile() method is mandatory.\n",
    "Sample Text: [\"example (.com)\", \"hr@fliprobo (.com)\", \"github (.com)\", \"Hello (Data Science World)\", \"Data (Scientist)\"]\n",
    "Expected Output:\n",
    "example.com\n",
    "hr@fliprobo.com\n",
    "github.com\n",
    "Hello Data Science World\n",
    "Data Scientist\n"
   ]
  },
  {
   "cell_type": "code",
   "execution_count": 43,
   "id": "d6d1e0a0-afc7-4eae-a33f-114063c093a9",
   "metadata": {},
   "outputs": [
    {
     "name": "stdout",
     "output_type": "stream",
     "text": [
      "['example (.com)', 'hr@fliprobo (.com)', 'github (.com)', 'Hello (Data Science World)', 'Data (Scientist)']\n"
     ]
    }
   ],
   "source": [
    "import re\n",
    "def remove_parentheses(strings):\n",
    "    pattern= re.compile(r'\\([^)]\\)')\n",
    "    cleaned_strings = [pattern.sub('', s).strip() for s in strings]\n",
    "    return cleaned_strings\n",
    "\n",
    "sample=[\"example (.com)\", \"hr@fliprobo (.com)\", \"github (.com)\", \"Hello (Data Science World)\", \"Data (Scientist)\"]\n",
    "output = remove_parentheses(sample)\n",
    "print(output)"
   ]
  },
  {
   "cell_type": "code",
   "execution_count": null,
   "id": "a0a808a8-cd5c-41cc-a865-6eef53fddced",
   "metadata": {},
   "outputs": [],
   "source": [
    "Question 6- Write a python program to remove the parenthesis area from the text stored in the text file using Regular Expression.\n",
    "Sample Text: [\"example (.com)\", \"hr@fliprobo (.com)\", \"github (.com)\", \"Hello (Data Science World)\", \"Data (Scientist)\"]\n",
    "Expected Output: [\"example\", \"hr@fliprobo\", \"github\", \"Hello\", \"Data\"]\n",
    "Note- Store given sample text in the text file and then to remove the parenthesis area from the text."
   ]
  },
  {
   "cell_type": "code",
   "execution_count": 45,
   "id": "41728276-4fce-41ae-9fc4-4104dd3b86c8",
   "metadata": {},
   "outputs": [
    {
     "name": "stdout",
     "output_type": "stream",
     "text": [
      "['example ', 'hr@fliprobo ', 'github ', 'Hello ', 'Data ']\n"
     ]
    }
   ],
   "source": [
    "import re\n",
    "import pandas as pd\n",
    "def remove_parentheses(text):\n",
    "    return re.sub(r'\\([^)]*\\)', \"\", text)\n",
    "sample_text=[\"example (.com)\", \"hr@fliprobo (.com)\", \"github (.com)\", \"Hello (Data Science World)\", \"Data (Scientist)\"]\n",
    "output = [remove_parentheses(item) for item in sample_text]\n",
    "print(output)\n"
   ]
  },
  {
   "cell_type": "code",
   "execution_count": null,
   "id": "8e55d5af-a4bb-4778-9eb6-cf728ce79081",
   "metadata": {},
   "outputs": [],
   "source": [
    "Question 7- Write a regular expression in Python to split a string into uppercase letters.\n",
    "Sample text: “ImportanceOfRegularExpressionsInPython”\n",
    "Expected Output: [‘Importance’, ‘Of’, ‘Regular’, ‘Expression’, ‘In’, ‘Python’]\n"
   ]
  },
  {
   "cell_type": "code",
   "execution_count": 53,
   "id": "6bc97d06-04c7-452e-b6dd-f13f008f5233",
   "metadata": {},
   "outputs": [
    {
     "name": "stdout",
     "output_type": "stream",
     "text": [
      "['Importance', 'Of', 'Regular', 'Expressions', 'In', 'Python']\n"
     ]
    }
   ],
   "source": [
    "def split_uppercase(text):\n",
    "    return re.findall('[A-Z][^A-Z]*', text)\n",
    "sample_text = \"ImportanceOfRegularExpressionsInPython\"\n",
    "output = split_uppercase(sample_text)\n",
    "print(output)"
   ]
  },
  {
   "cell_type": "code",
   "execution_count": null,
   "id": "3746ae26-48b5-40bc-ab98-fb8870ceaa45",
   "metadata": {},
   "outputs": [],
   "source": [
    "Question 8- Create a function in python to insert spaces between words starting with numbers.\n",
    "Sample Text: “RegularExpression1IsAn2ImportantTopic3InPython\"\n",
    "Expected Output: RegularExpression 1IsAn 2ImportantTopic 3InPython\n"
   ]
  },
  {
   "cell_type": "code",
   "execution_count": 55,
   "id": "95994851-b116-4890-850b-f036fe30d17e",
   "metadata": {},
   "outputs": [
    {
     "name": "stdout",
     "output_type": "stream",
     "text": [
      "RegularExpression 1IsAn 2ImportantTopic 3InPython\n"
     ]
    }
   ],
   "source": [
    "import re\n",
    "pattern = r'(\\d+)'\n",
    "sample_text = \"RegularExpression1IsAn2ImportantTopic3InPython\"\n",
    "output = re.sub(pattern, r' \\1', sample_text)\n",
    "print(output)"
   ]
  },
  {
   "cell_type": "code",
   "execution_count": null,
   "id": "dee09086-148e-46d8-b0aa-3b0b257b1f19",
   "metadata": {},
   "outputs": [],
   "source": [
    "Question 9- Create a function in python to insert spaces between words starting with capital letters or with numbers.\n",
    "Sample Text: “RegularExpression1IsAn2ImportantTopic3InPython\"\n",
    "Expected Output:  RegularExpression 1 IsAn 2 ImportantTopic 3 InPython\n"
   ]
  },
  {
   "cell_type": "code",
   "execution_count": 58,
   "id": "43c1fc5f-8e1d-4cf7-8de1-d2cbae80f784",
   "metadata": {},
   "outputs": [
    {
     "name": "stdout",
     "output_type": "stream",
     "text": [
      "RegularExpression 1 IsAn 2 ImportantTopic 3 InPython\n",
      "None\n"
     ]
    }
   ],
   "source": [
    "import re\n",
    "def insert_spaces(text):\n",
    "    pattern = r'(\\d+)'\n",
    "    output = re.sub(pattern, r' \\1 ',text)\n",
    "    print(output)\n",
    "sample_text = \"RegularExpression1IsAn2ImportantTopic3InPython\"\n",
    "output = insert_spaces(sample_text)\n",
    "print(output)"
   ]
  },
  {
   "cell_type": "code",
   "execution_count": null,
   "id": "70028f3d-e41d-4425-a85b-e23f53d16292",
   "metadata": {},
   "outputs": [],
   "source": [
    "Question 10- Use the github link below to read the data and create a dataframe. After creating the dataframe extract the first 6 letters of each country and store in the dataframe under a new column called first_five_letters.\n",
    "Github Link-  https://raw.githubusercontent.com/dsrscientist/DSData/master/happiness_score_dataset.csv\n"
   ]
  },
  {
   "cell_type": "code",
   "execution_count": 65,
   "id": "69266d70-5aed-48b5-aacb-e3032de1aa0c",
   "metadata": {},
   "outputs": [
    {
     "name": "stdout",
     "output_type": "stream",
     "text": [
      "         Country                           Region  Happiness Rank  \\\n",
      "0    Switzerland                   Western Europe               1   \n",
      "1        Iceland                   Western Europe               2   \n",
      "2        Denmark                   Western Europe               3   \n",
      "3         Norway                   Western Europe               4   \n",
      "4         Canada                    North America               5   \n",
      "..           ...                              ...             ...   \n",
      "153       Rwanda               Sub-Saharan Africa             154   \n",
      "154        Benin               Sub-Saharan Africa             155   \n",
      "155        Syria  Middle East and Northern Africa             156   \n",
      "156      Burundi               Sub-Saharan Africa             157   \n",
      "157         Togo               Sub-Saharan Africa             158   \n",
      "\n",
      "     Happiness Score  Standard Error  Economy (GDP per Capita)   Family  \\\n",
      "0              7.587         0.03411                   1.39651  1.34951   \n",
      "1              7.561         0.04884                   1.30232  1.40223   \n",
      "2              7.527         0.03328                   1.32548  1.36058   \n",
      "3              7.522         0.03880                   1.45900  1.33095   \n",
      "4              7.427         0.03553                   1.32629  1.32261   \n",
      "..               ...             ...                       ...      ...   \n",
      "153            3.465         0.03464                   0.22208  0.77370   \n",
      "154            3.340         0.03656                   0.28665  0.35386   \n",
      "155            3.006         0.05015                   0.66320  0.47489   \n",
      "156            2.905         0.08658                   0.01530  0.41587   \n",
      "157            2.839         0.06727                   0.20868  0.13995   \n",
      "\n",
      "     Health (Life Expectancy)  Freedom  Trust (Government Corruption)  \\\n",
      "0                     0.94143  0.66557                        0.41978   \n",
      "1                     0.94784  0.62877                        0.14145   \n",
      "2                     0.87464  0.64938                        0.48357   \n",
      "3                     0.88521  0.66973                        0.36503   \n",
      "4                     0.90563  0.63297                        0.32957   \n",
      "..                        ...      ...                            ...   \n",
      "153                   0.42864  0.59201                        0.55191   \n",
      "154                   0.31910  0.48450                        0.08010   \n",
      "155                   0.72193  0.15684                        0.18906   \n",
      "156                   0.22396  0.11850                        0.10062   \n",
      "157                   0.28443  0.36453                        0.10731   \n",
      "\n",
      "     Generosity  Dystopia Residual  \n",
      "0       0.29678            2.51738  \n",
      "1       0.43630            2.70201  \n",
      "2       0.34139            2.49204  \n",
      "3       0.34699            2.46531  \n",
      "4       0.45811            2.45176  \n",
      "..          ...                ...  \n",
      "153     0.22628            0.67042  \n",
      "154     0.18260            1.63328  \n",
      "155     0.47179            0.32858  \n",
      "156     0.19727            1.83302  \n",
      "157     0.16681            1.56726  \n",
      "\n",
      "[158 rows x 12 columns]\n"
     ]
    }
   ],
   "source": [
    "import pandas as pd\n",
    "df=pd.read_csv('https://raw.githubusercontent.com/dsrscientist/DSData/master/happiness_score_dataset.csv')\n",
    "print (df)"
   ]
  },
  {
   "cell_type": "code",
   "execution_count": 67,
   "id": "18d2c7a1-ea52-45aa-9509-c9fcbf080349",
   "metadata": {},
   "outputs": [
    {
     "name": "stdout",
     "output_type": "stream",
     "text": [
      "0      Switze\n",
      "1      Icelan\n",
      "2      Denmar\n",
      "3      Norway\n",
      "4      Canada\n",
      "        ...  \n",
      "153    Rwanda\n",
      "154     Benin\n",
      "155     Syria\n",
      "156    Burund\n",
      "157      Togo\n",
      "Name: first_five_letters, Length: 158, dtype: object\n"
     ]
    }
   ],
   "source": [
    "df['first_five_letters'] = df['Country'].apply(lambda x: x[:6])\n",
    "print(df['first_five_letters'])"
   ]
  },
  {
   "cell_type": "code",
   "execution_count": null,
   "id": "7d70e294-a6d9-4007-a9a8-5556cf67b493",
   "metadata": {},
   "outputs": [],
   "source": [
    "question 11-a Python program to match a string that contains only upper and lowercase letters, numbers, and underscores."
   ]
  },
  {
   "cell_type": "code",
   "execution_count": null,
   "id": "78a5afac-a8f3-45de-9a55-fbccec2328ed",
   "metadata": {},
   "outputs": [],
   "source": [
    "def text_match(text):\n",
    "    pattern = '^[a-zA-Z0-9_]*$'\n",
    "    if re.search(pattern, text):\n",
    "        return 'Found a match!'\n",
    "    else:\n",
    "        return 'Not matched!'"
   ]
  },
  {
   "cell_type": "code",
   "execution_count": null,
   "id": "83f08e31-0a69-4fb0-9f25-5f079a4499c7",
   "metadata": {},
   "outputs": [],
   "source": [
    "Question 12- Write a Python program where a string will start with a specific number. "
   ]
  },
  {
   "cell_type": "code",
   "execution_count": 84,
   "id": "a7c726da-dad1-4e9a-8b5e-b5f24b6ff1fa",
   "metadata": {},
   "outputs": [
    {
     "name": "stdout",
     "output_type": "stream",
     "text": [
      "True\n"
     ]
    }
   ],
   "source": [
    "import re\n",
    "def start_withnumber(string):\n",
    "    return string[0].isdigit()\n",
    "print(start_withnumber('9742111'))  "
   ]
  },
  {
   "cell_type": "code",
   "execution_count": null,
   "id": "08178b78-ba9c-469e-b2e4-1cf178d49e83",
   "metadata": {},
   "outputs": [],
   "source": [
    "Question 13- Write a Python program to remove leading zeros from an IP address"
   ]
  },
  {
   "cell_type": "code",
   "execution_count": 86,
   "id": "d9da0032-8aa6-41bd-b420-2dc3d8fc89d3",
   "metadata": {},
   "outputs": [
    {
     "name": "stdout",
     "output_type": "stream",
     "text": [
      "10.0.1.10\n"
     ]
    }
   ],
   "source": [
    "def remove_zeros_from_ip(ip_adr):\n",
    "    return re.sub(r'(^|\\.)0+(?=[^.])', r'\\1', ip_adr)\n",
    "print(remove_zeros_from_ip('10.0.01.10')) "
   ]
  },
  {
   "cell_type": "code",
   "execution_count": null,
   "id": "b3046485-de46-4cab-a2fa-93278b289ebb",
   "metadata": {},
   "outputs": [],
   "source": [
    "Question 14- Write a regular expression in python to match a date string in the form of Month name followed by day number and year stored in a text file.\n",
    "Sample text :  ' On August 15th 1947 that India was declared independent from British colonialism, and the reins of control were handed over to the leaders of the Country’.\n",
    "Expected Output- August 15th 1947\n",
    "Note- Store given sample text in the text file and then extract the date string asked format.\n"
   ]
  },
  {
   "cell_type": "code",
   "execution_count": 88,
   "id": "c614b69d-f5b4-4b9b-8707-4acad4a4eb64",
   "metadata": {},
   "outputs": [
    {
     "name": "stdout",
     "output_type": "stream",
     "text": [
      "August 15th 1947\n"
     ]
    }
   ],
   "source": [
    "import re\n",
    "text = \"On August 15th 1947 that India was declared independent from British colonialism, and the reins of control were handed over to the leaders of the Country.\"\n",
    "pattern = r\"\\b([A-Z][a-z]+ \\d{1,2}(?:st|nd|rd|th)? \\d{4})\\b\"\n",
    "matches = re.findall(pattern, text)\n",
    "date_string = matches[0] if matches else None\n",
    "print(date_string)"
   ]
  },
  {
   "cell_type": "code",
   "execution_count": null,
   "id": "dabb59ec-b733-4f24-adc1-67194564651c",
   "metadata": {},
   "outputs": [],
   "source": [
    "question15- Write a Python program to search some literals strings in a string. \n",
    "Sample text : 'The quick brown fox jumps over the lazy dog.'\n",
    "Searched words : 'fox', 'dog', 'horse'"
   ]
  },
  {
   "cell_type": "code",
   "execution_count": null,
   "id": "3663ba89-18d3-4926-8089-e4764176126a",
   "metadata": {},
   "outputs": [],
   "source": []
  },
  {
   "cell_type": "code",
   "execution_count": null,
   "id": "6d68a5f6-3a1a-4d5c-b9e8-800fae69e12a",
   "metadata": {},
   "outputs": [],
   "source": [
    "question 16- write a Python program to search a literals string in a string and also find the location within the original string where the pattern occurs\n",
    "Sample text : 'The quick brown fox jumps over the lazy dog.'\n",
    "Searched words : 'fox'"
   ]
  },
  {
   "cell_type": "code",
   "execution_count": null,
   "id": "ca89f26b-fa08-4ac3-bd8b-c361994569bc",
   "metadata": {},
   "outputs": [],
   "source": []
  },
  {
   "cell_type": "code",
   "execution_count": null,
   "id": "fd85c3b1-b73e-4ea1-bc44-df55c38fa12d",
   "metadata": {},
   "outputs": [],
   "source": [
    "question 17- Write a Python program to find the substrings within a string.\n",
    "Sample text : 'Python exercises, PHP exercises, C# exercises'\n",
    "Pattern : 'exercises'."
   ]
  },
  {
   "cell_type": "code",
   "execution_count": 94,
   "id": "45b8c0db-4501-4090-b4cd-bc6901598bf0",
   "metadata": {},
   "outputs": [
    {
     "name": "stdout",
     "output_type": "stream",
     "text": [
      "Substrings found:\n",
      "excercises\n"
     ]
    }
   ],
   "source": [
    "def substrings(text):\n",
    "    substrings = [substring.strip() for substring in text.split(',')]\n",
    "    return substrings\n",
    "\n",
    "sample_text = 'Python exercises, PHP exercises, C# exercises'\n",
    "result = substrings('excercises')\n",
    "print(\"Substrings found:\")\n",
    "for substring in result:\n",
    "    print(substring)"
   ]
  },
  {
   "cell_type": "code",
   "execution_count": null,
   "id": "d7b711ba-de04-454d-b380-d24cf4cda1a1",
   "metadata": {},
   "outputs": [],
   "source": [
    "question 18: Write a Python program to find the occurrence and position of the substrings within a string."
   ]
  },
  {
   "cell_type": "code",
   "execution_count": null,
   "id": "6e5234ad-71b7-4346-b4a6-d6d253894122",
   "metadata": {},
   "outputs": [],
   "source": []
  },
  {
   "cell_type": "code",
   "execution_count": null,
   "id": "69791329-e73c-4a01-b101-629f4f62ec9a",
   "metadata": {},
   "outputs": [],
   "source": [
    "Question 19- Write a Python program to convert a date of yyyy-mm-dd format to dd-mm-yyyy format."
   ]
  },
  {
   "cell_type": "code",
   "execution_count": null,
   "id": "94b8d355-2f18-4373-bb62-3ca125c30c06",
   "metadata": {},
   "outputs": [],
   "source": [
    "import re\n",
    "from datetime import datetime\n",
    "original_date = \"2026-01-02\"\n",
    "new_date = datetime.strptime(original_date, \"%Y-%m-%d\").strftime(\"%d-%m-%Y\")\n",
    "print(\"original date in yyyy-mm-dd format:\", original_date)\n",
    "print(\"new date in dd-mm-yyyy format:\", new_date)"
   ]
  },
  {
   "cell_type": "code",
   "execution_count": null,
   "id": "a045b892-3468-47b5-b8cd-bdab6bfd6b7f",
   "metadata": {},
   "outputs": [],
   "source": [
    "Question 20- Create a function in python to find all decimal numbers with a precision of 1 or 2 in a string. The use of the re.compile() method is mandatory.\n",
    "Sample Text: \"01.12 0132.123 2.31875 145.8 3.01 27.25 0.25\"\n",
    "Expected Output: ['01.12', '145.8', '3.01', '27.25', '0.25']\n"
   ]
  },
  {
   "cell_type": "code",
   "execution_count": 101,
   "id": "8fee81e4-6f1b-4538-a272-3c531e84066f",
   "metadata": {},
   "outputs": [
    {
     "name": "stdout",
     "output_type": "stream",
     "text": [
      "['01.12', '0132.12', '2.31', '145.8', '3.01', '27.25', '0.25']\n"
     ]
    }
   ],
   "source": [
    "import re\n",
    "def decimal_numbers(text):\n",
    "    pattern =r\"\\d+\\.\\d{1,2}\"\n",
    "    decimal_matches = re.findall(pattern, text)\n",
    "    return decimal_matches\n",
    "sample_text = \"01.12 0132.123 2.31875 145.8 3.01 27.25 0.25\"\n",
    "result =decimal_numbers(sample_text)\n",
    "print(result)\n"
   ]
  },
  {
   "cell_type": "code",
   "execution_count": null,
   "id": "c173d497-d74c-42d4-9726-925a97669152",
   "metadata": {},
   "outputs": [],
   "source": [
    "Question 21- Write a Python program to separate and print the numbers and their position of a given string."
   ]
  },
  {
   "cell_type": "code",
   "execution_count": null,
   "id": "c91f6464-73f7-4c1a-abf7-614a2c187010",
   "metadata": {},
   "outputs": [],
   "source": [
    "import re\n",
    "text = \"The following example creates an ArrayList with a capacity of 50 elements. Four elements are then added to the ArrayList and the ArrayList is trimmed accordingly.\"\n",
    "for m in re.finditer(r\"\\d+\", text):\n",
    "    print(f\"Number: {m.group(0)}, Position: {m.start()}\")"
   ]
  },
  {
   "cell_type": "code",
   "execution_count": null,
   "id": "1e525de0-0c69-4465-a047-24f35106c75c",
   "metadata": {},
   "outputs": [],
   "source": [
    "Question 22- Write a regular expression in python program to extract maximum/largest numeric value from a string.\n",
    "Sample Text:  'My marks in each semester are: 947, 896, 926, 524, 734, 950, 642'\n",
    "Expected Output: 950"
   ]
  },
  {
   "cell_type": "code",
   "execution_count": null,
   "id": "6308b8ed-4956-4019-817d-1d2de7637a48",
   "metadata": {},
   "outputs": [],
   "source": [
    "import re\n",
    "sample='My marks in each semester are: 947, 896, 926, 524, 734, 950, 642'\n",
    "largest_number = re.findall('\\d+',sample)\n",
    "number = map(int,largest_number)\n",
    "print(\"Max_value:\",max(number))\n"
   ]
  },
  {
   "cell_type": "code",
   "execution_count": null,
   "id": "2d462bfc-e64e-4a1c-8167-405e52b31e14",
   "metadata": {},
   "outputs": [],
   "source": [
    "Question 23- Create a function in python to insert spaces between words starting with capital letters.\n",
    "Sample Text: \"RegularExpressionIsAnImportantTopicInPython\"\n",
    "Expected Output: Regular Expression Is An Important Topic In Python"
   ]
  },
  {
   "cell_type": "code",
   "execution_count": null,
   "id": "f34dff9a-3217-4213-bba3-3b348d9401ec",
   "metadata": {},
   "outputs": [],
   "source": [
    "import re\n",
    "def insert_spaces(Sample_text):\n",
    "    pattern = r'(?<=[a-z])([A-Z])'\n",
    "    return re.sub(pattern,r' \\1',Sample_text)\n",
    "    \n",
    "text= \"RegularExpressionIsAnImportantTopicInPython\"\n",
    "result=insert_spaces(text)\n",
    "print(result)"
   ]
  },
  {
   "cell_type": "code",
   "execution_count": null,
   "id": "dd44bd23-3b71-4e71-b7b9-a061cd9749a8",
   "metadata": {},
   "outputs": [],
   "source": [
    "Question 24- Python regex to find sequences of one upper case letter followed by lower case letters"
   ]
  },
  {
   "cell_type": "code",
   "execution_count": null,
   "id": "57f2de5c-1403-4fc5-8786-a02996d3479f",
   "metadata": {},
   "outputs": [],
   "source": [
    "pattern=^[A-Z]+[a-z]+$"
   ]
  },
  {
   "cell_type": "code",
   "execution_count": null,
   "id": "2dab1d69-24b8-4c34-bc7a-7a2ef40d2b72",
   "metadata": {},
   "outputs": [],
   "source": [
    "Question 25- Write a Python program to remove continuous duplicate words from Sentence using Regular Expression.\n",
    "Sample Text: \"Hello hello world world\"\n",
    "Expected Output: Hello hello world"
   ]
  },
  {
   "cell_type": "code",
   "execution_count": 113,
   "id": "cdba6e53-0547-4d4c-a483-4ebbae7c1e0b",
   "metadata": {},
   "outputs": [
    {
     "name": "stdout",
     "output_type": "stream",
     "text": [
      "Hello hello world\n"
     ]
    }
   ],
   "source": [
    "import re\n",
    "def duplicatewords_casesenstive(input):\n",
    "     pattern = r'\\b(\\w+)(?:\\W+\\1\\b)+'\n",
    "     return re.sub(pattern, r'\\1', input, flags=0)\n",
    "\n",
    "\n",
    "sampletext = \"Hello hello world world\"\n",
    "print(duplicatewords_casesenstive(sampletext))"
   ]
  },
  {
   "cell_type": "code",
   "execution_count": null,
   "id": "efc911b8-ff68-4897-9fed-e7757d776d19",
   "metadata": {},
   "outputs": [],
   "source": [
    "Question 26:Write a python program using RegEx to accept string ending with alphanumeric character."
   ]
  },
  {
   "cell_type": "code",
   "execution_count": null,
   "id": "5c0cfc8d-427a-42a0-8f1c-312f295f19cf",
   "metadata": {},
   "outputs": [],
   "source": [
    "import re\n",
    "def alpha_numeric(sample):\n",
    "    pattern = '[0-9]$'\n",
    "    if re.search(pattern,sample):\n",
    "        print(\"accept\")\n",
    "    else:\n",
    "        print(\"reject\")"
   ]
  },
  {
   "cell_type": "code",
   "execution_count": null,
   "id": "23c721ea-3a0b-4e7a-a932-4ed85d65e65a",
   "metadata": {},
   "outputs": [],
   "source": [
    "Question 27-Write a python program using RegEx to extract the hashtags.\n",
    "Sample Text:  \"\"\"RT @kapil_kausik: #Doltiwal I mean #xyzabc is \"hurt\" by #Demonetization as the same has rendered USELESS <ed><U+00A0><U+00BD><ed><U+00B1><U+0089> \"acquired funds\" No wo\"\"\"\n",
    "Expected Output: ['#Doltiwal', '#xyzabc', '#Demonetization']\n"
   ]
  },
  {
   "cell_type": "code",
   "execution_count": 133,
   "id": "c4d95acc-6d9a-495f-ab90-1500521af6d7",
   "metadata": {},
   "outputs": [
    {
     "name": "stdout",
     "output_type": "stream",
     "text": [
      "['#Doltiwal', '#xyzabc', '#Demonetization']\n"
     ]
    }
   ],
   "source": [
    "import re\n",
    "\n",
    "def hastags(sample):\n",
    "    return re.findall(r'#\\w+',sample)\n",
    "sample ='RT @kapil_kausik: #Doltiwal I mean #xyzabc is \"hurt\" by #Demonetization as the same has rendered USELESS <ed><U+00A0><U+00BD><ed><U+00B1><U+0089> \"acquired funds\" No wo'\n",
    "output =hastags(sample)\n",
    "print(output)  \n"
   ]
  },
  {
   "cell_type": "code",
   "execution_count": null,
   "id": "cd3c057d-79ca-45f2-bc1c-c83797d417ac",
   "metadata": {},
   "outputs": [],
   "source": [
    "Question 28- Write a python program using RegEx to remove <U+..> like symbols\n",
    "Check the below sample text, there are strange symbols something of the sort <U+..> all over the place. You need to come up with a general Regex expression that will cover all such symbols.\n",
    "Sample Text: \"@Jags123456 Bharat band on 28??<ed><U+00A0><U+00BD><ed><U+00B8><U+0082>Those who  are protesting #demonetization  are all different party leaders\"\n",
    "Expected Output: @Jags123456 Bharat band on 28??<ed><ed>Those who  are protesting #demonetization  are all different party leaders"
   ]
  },
  {
   "cell_type": "code",
   "execution_count": 129,
   "id": "63ab403c-c112-42e5-8b2c-f36995763cdd",
   "metadata": {},
   "outputs": [
    {
     "name": "stdout",
     "output_type": "stream",
     "text": [
      "@Jags123456 Bharat band on 28??<ed><ed>Those who are protesting #demonetization are all different party leaders\n"
     ]
    }
   ],
   "source": [
    "import re\n",
    "sample_text = \"@Jags123456 Bharat band on 28??<ed><U+00A0><U+00BD><ed><U+00B8><U+0082>Those who are protesting #demonetization are all different party leaders\"\n",
    "regex = r\"<U\\+\\w{4}>\"\n",
    "output= re.sub(regex, \"\",sample_text)\n",
    "print(output)"
   ]
  },
  {
   "cell_type": "code",
   "execution_count": null,
   "id": "c3092865-bfd9-4da6-ba41-c698979f9f44",
   "metadata": {},
   "outputs": [],
   "source": [
    "Question 29- Write a python program to extract dates from the text stored in the text file.\n",
    "Sample Text: Ron was born on 12-09-1992 and he was admitted to school 15-12-1999.\n",
    "Note- Store this sample text in the file and then extract dates."
   ]
  },
  {
   "cell_type": "code",
   "execution_count": 125,
   "id": "02e47950-498a-4ee5-aa18-07e3d62eaca2",
   "metadata": {},
   "outputs": [
    {
     "name": "stdout",
     "output_type": "stream",
     "text": [
      "['12-09-1992', '15-12-1999']\n"
     ]
    }
   ],
   "source": [
    "import re\n",
    "def extractdates(text, pattern):\n",
    "    return re.findall(pattern, text)\n",
    "text = \"Ron was born on 12-09-1992 and he was admitted to school 15-12-1999.\"\n",
    "pattern = \"\\d{2}[/-]\\d{2}[/-]\\d{4}\"\n",
    "dates = extractdates(text, pattern)\n",
    "print(dates)"
   ]
  },
  {
   "cell_type": "code",
   "execution_count": null,
   "id": "50255a88-436d-444e-b31c-cb24564c1fdd",
   "metadata": {},
   "outputs": [],
   "source": [
    "Question 30- Create a function in python to remove all words from a string of length between 2 and 4.\n",
    "The use of the re.compile() method is mandatory.\n",
    "Sample Text: \"The following example creates an ArrayList with a capacity of 50 elements. 4 elements are then added to the ArrayList and the ArrayList is trimmed accordingly.\"\n",
    "Expected Output:  following example creates ArrayList a capacity elements. 4 elements added ArrayList ArrayList trimmed accordingly.\n"
   ]
  },
  {
   "cell_type": "code",
   "execution_count": 127,
   "id": "0285e0b5-ccde-4176-bf61-be6f57dc277f",
   "metadata": {},
   "outputs": [
    {
     "name": "stdout",
     "output_type": "stream",
     "text": [
      " following example creates ArrayList a capacity elements. 4 elements added ArrayList ArrayList trimmed accordingly.\n"
     ]
    }
   ],
   "source": [
    "pattern = re.compile(r'\\W*\\b\\w{2,4}\\b')\n",
    "sample=\"The following example creates an ArrayList with a capacity of 50 elements. 4 elements are then added to the ArrayList and the ArrayList is trimmed accordingly.\"\n",
    "result=pattern.sub('',sample)   \n",
    "print(result)\n"
   ]
  },
  {
   "cell_type": "code",
   "execution_count": null,
   "id": "3a9a0c65-e91b-4b14-810f-5e99ecad0b61",
   "metadata": {},
   "outputs": [],
   "source": []
  }
 ],
 "metadata": {
  "kernelspec": {
   "display_name": "Python 3 (ipykernel)",
   "language": "python",
   "name": "python3"
  },
  "language_info": {
   "codemirror_mode": {
    "name": "ipython",
    "version": 3
   },
   "file_extension": ".py",
   "mimetype": "text/x-python",
   "name": "python",
   "nbconvert_exporter": "python",
   "pygments_lexer": "ipython3",
   "version": "3.11.7"
  }
 },
 "nbformat": 4,
 "nbformat_minor": 5
}
